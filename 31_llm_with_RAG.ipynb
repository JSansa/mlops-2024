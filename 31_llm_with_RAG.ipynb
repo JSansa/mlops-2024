{
 "cells": [
  {
   "cell_type": "markdown",
   "source": [
    "<a href=\"https://colab.research.google.com/github/hdakhli/mlops-2024/blob/main/31_llm_with_RAG.ipynb\" target=\"_parent\"><img src=\"https://colab.research.google.com/assets/colab-badge.svg\" alt=\"Open In Colab\"/></a>"
   ],
   "metadata": {
    "collapsed": false
   },
   "id": "2d0cbbae3e38c51a"
  },
  {
   "cell_type": "code",
   "execution_count": null,
   "outputs": [],
   "source": [
    "!pip install langchain-core langchain-community"
   ],
   "metadata": {
    "collapsed": false
   },
   "id": "e9d8445e7b4d7588"
  },
  {
   "cell_type": "markdown",
   "source": [
    "### Tester un LLM avec une question hyper spécifique"
   ],
   "metadata": {
    "collapsed": false
   },
   "id": "e04b08c39eea43bf"
  },
  {
   "cell_type": "code",
   "execution_count": null,
   "id": "initial_id",
   "metadata": {
    "collapsed": true
   },
   "outputs": [],
   "source": [
    "# Utiliser langchain avec le model llama"
   ]
  },
  {
   "cell_type": "code",
   "execution_count": null,
   "outputs": [],
   "source": [
    "chain.invoke({\"Qu'est-ce qu'un sans effet ?\"})"
   ],
   "metadata": {
    "collapsed": false
   },
   "id": "32b3a74457e6c622"
  },
  {
   "cell_type": "markdown",
   "source": [
    "### Avec du RAG"
   ],
   "metadata": {
    "collapsed": false
   },
   "id": "a8a95f47d91247b6"
  },
  {
   "cell_type": "code",
   "execution_count": null,
   "outputs": [],
   "source": [
    "!pip install langchain-chroma llama-index-embeddings-langchain llama-index sentence-transformers"
   ],
   "metadata": {
    "collapsed": false
   },
   "id": "deb41191d5b4c5be"
  },
  {
   "cell_type": "code",
   "execution_count": null,
   "outputs": [],
   "source": [
    "# L'idée est de vectoriser le document contenant l'information spécifique et de l'enregistrer dans une base vectorielle afin de pouvoir faire une recherche par similarité en utilisant la question de l'utilisateur\n",
    "# la base vectorielle à utiliser est chroma DB et le model de vectorisation à utiliser est \"sentence-transformers/all-mpnet-base-v2\" à récupérer dans huggingface, utiliser la classe HuggingFaceEmbeddings du package langchain_community.embeddings pour le télécharger automatiquement."
   ],
   "metadata": {
    "collapsed": false
   },
   "id": "acbcfee014a9522e"
  },
  {
   "cell_type": "code",
   "execution_count": null,
   "outputs": [],
   "source": [],
   "metadata": {
    "collapsed": false
   },
   "id": "4780bd8a11d43fc4"
  },
  {
   "cell_type": "code",
   "execution_count": null,
   "outputs": [],
   "source": [
    "# Avec langchain créer une \"chaine\" contenant: un context | la question | le prompt | un parser (StrOutputParser) afin de répondre à la question.\n",
    "# Indication: Le context est un retriever qui fait une recherche par similarité de la question posée dans la base vectorielle."
   ],
   "metadata": {
    "collapsed": false
   },
   "id": "52a7103d9b7ef695"
  },
  {
   "cell_type": "code",
   "execution_count": null,
   "outputs": [],
   "source": [],
   "metadata": {
    "collapsed": false
   },
   "id": "efee7c076b0b016"
  },
  {
   "cell_type": "code",
   "execution_count": null,
   "outputs": [],
   "source": [
    "chain.invoke(\"Qu'est-ce qu'un sans effet ?\")"
   ],
   "metadata": {
    "collapsed": false
   },
   "id": "c7283cb2e56a36ad"
  },
  {
   "cell_type": "code",
   "execution_count": null,
   "outputs": [],
   "source": [],
   "metadata": {
    "collapsed": false
   },
   "id": "32cc8471f2694870"
  },
  {
   "cell_type": "code",
   "execution_count": null,
   "outputs": [],
   "source": [
    "# Enrichir la base vectorielle chroma DB par les cours que vous avez eu cette année\n",
    "# Tester !"
   ],
   "metadata": {
    "collapsed": false
   },
   "id": "721a389708180ae9"
  },
  {
   "cell_type": "code",
   "execution_count": null,
   "outputs": [],
   "source": [],
   "metadata": {
    "collapsed": false
   },
   "id": "c9a06edee44fd2f8"
  }
 ],
 "metadata": {
  "kernelspec": {
   "display_name": "Python 3",
   "language": "python",
   "name": "python3"
  },
  "language_info": {
   "codemirror_mode": {
    "name": "ipython",
    "version": 2
   },
   "file_extension": ".py",
   "mimetype": "text/x-python",
   "name": "python",
   "nbconvert_exporter": "python",
   "pygments_lexer": "ipython2",
   "version": "2.7.6"
  }
 },
 "nbformat": 4,
 "nbformat_minor": 5
}
