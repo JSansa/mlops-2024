{
 "nbformat": 4,
 "nbformat_minor": 0,
 "metadata": {
  "colab": {
   "name": "Untitled11.ipynb",
   "provenance": [],
   "authorship_tag": "ABX9TyO9dycfhdD2rGKyKLGTkAL0",
   "include_colab_link": true
  },
  "kernelspec": {
   "name": "python3",
   "language": "python",
   "display_name": "Python 3 (ipykernel)"
  }
 },
 "cells": [
  {
   "cell_type": "markdown",
   "metadata": {
    "id": "view-in-github",
    "colab_type": "text"
   },
   "source": [
    "<a href=\"https://colab.research.google.com/github/hdakhli/mlops-2024/blob/main/01_matplotlib.ipynb\" target=\"_parent\"><img src=\"https://colab.research.google.com/assets/colab-badge.svg\" alt=\"Open In Colab\"/></a>"
   ]
  },
  {
   "cell_type": "markdown",
   "metadata": {
    "id": "gSTJzhbhCKwU",
    "colab_type": "text"
   },
   "source": [
    "# Graphiques de Base"
   ]
  },
  {
   "cell_type": "markdown",
   "source": [
    "Il ya 2 façons de créer des graphiques avec Matplotlib:\n",
    "\n",
    "- plt.plot(x, y)\n",
    "\n",
    "- fig, ax = plt.subplots()\n",
    "  ax.plot(x, y)\n",
    "  plt.show()"
   ],
   "metadata": {
    "collapsed": false
   }
  },
  {
   "cell_type": "markdown",
   "metadata": {
    "id": "8Phv6mUyCtvH",
    "colab_type": "text"
   },
   "source": [
    "## 1. Pyplot"
   ]
  },
  {
   "cell_type": "code",
   "metadata": {
    "id": "B44Ms3yN-ekQ",
    "colab_type": "code",
    "colab": {},
    "ExecuteTime": {
     "end_time": "2024-05-06T22:42:48.179540Z",
     "start_time": "2024-05-06T22:42:47.198212Z"
    }
   },
   "source": [
    "import numpy as np\n",
    "import matplotlib.pyplot as plt"
   ],
   "execution_count": 1,
   "outputs": []
  },
  {
   "cell_type": "markdown",
   "metadata": {
    "id": "zKc8md_oEbsC",
    "colab_type": "text"
   },
   "source": [
    "### Graphiques simples"
   ]
  },
  {
   "cell_type": "code",
   "metadata": {
    "id": "59OfExBfCRhb",
    "colab_type": "code",
    "colab": {
     "base_uri": "https://localhost:8080/",
     "height": 265
    },
    "outputId": "3dabc547-c3c3-4606-f69e-b8ee89d28379",
    "ExecuteTime": {
     "end_time": "2024-05-06T22:42:51.637060Z",
     "start_time": "2024-05-06T22:42:51.629122Z"
    }
   },
   "source": [
    "X = np.linspace(0, 2, 10)\n",
    "y = X**2\n",
    "\n",
    "# tracer cette fonction"
   ],
   "execution_count": 2,
   "outputs": []
  },
  {
   "cell_type": "code",
   "metadata": {
    "id": "53YYF8uqCpVR",
    "colab_type": "code",
    "colab": {
     "base_uri": "https://localhost:8080/",
     "height": 265
    },
    "outputId": "0fee6a0c-a34c-42cb-fa65-ef30448e2826"
   },
   "source": [],
   "execution_count": null,
   "outputs": []
  },
  {
   "cell_type": "markdown",
   "metadata": {
    "id": "p74Gt_7BEe_9",
    "colab_type": "text"
   },
   "source": [
    "### Styles Graphiques\n",
    "Il existe beaucoup de styles a ajouter aux graphiques. Voici les plus importants a retenir :\n",
    "- **c** : couleur de la ligne\n",
    "- **lw** : epaisseur de la ligne (pour les graphiques plot)\n",
    "- **ls** : style de la ligne (pour les graphiques plot)\n",
    "- **size** : taille du point (pour les graphiques scatter)\n",
    "- **marker** : style de points (pour les graphiques scatter)\n",
    "- **alpha** : transparence du graphique\n",
    "\n"
   ]
  },
  {
   "cell_type": "code",
   "metadata": {
    "id": "g-ghI-dRFI37",
    "colab_type": "code",
    "colab": {
     "base_uri": "https://localhost:8080/",
     "height": 265
    },
    "outputId": "49ebda64-9d30-4c90-8697-7b8e17ceb207"
   },
   "source": [],
   "execution_count": null,
   "outputs": []
  },
  {
   "cell_type": "markdown",
   "metadata": {
    "id": "xPhw27RlDD0_",
    "colab_type": "text"
   },
   "source": [
    "## 2. Cycle de vie d'une figure\n",
    "Pour créer des figures proprements, on doit suivre le cycle de vie suivant :\n",
    "1. **plt.figure**(figsize)\n",
    "2. **plt.plot()**\n",
    "3. Extras (titre, axes, legendes)\n",
    "4. **plt.show()**"
   ]
  },
  {
   "cell_type": "code",
   "metadata": {
    "id": "jPN60ClNC0dt",
    "colab_type": "code",
    "colab": {
     "base_uri": "https://localhost:8080/",
     "height": 295
    },
    "outputId": "8af65fd2-d181-4997-fccc-a57931325dcb"
   },
   "source": [
    "X = np.linspace(0, 2, 10)\n",
    "\n",
    "# Création de 2 figures:\n",
    "# premiere courbe : y = X**2 avec un label='quadratique'\n",
    "# deuxieme courbe : y = X**3 avec un label='cubique'\n",
    "# Extra information\n",
    " # titre\n",
    " # labeliser les axes\n",
    " # ajouter une légende\n",
    "\n",
    "# sauvegarder la figure dans le repertoire de travail"
   ],
   "execution_count": null,
   "outputs": []
  },
  {
   "cell_type": "markdown",
   "metadata": {
    "id": "QcLuPKDOFbQO",
    "colab_type": "text"
   },
   "source": [
    "## 3. Subplots\n",
    "Les subplots sont un autre éléments a ajouter pour créer plusieurs graphiques sur une meme figure"
   ]
  },
  {
   "cell_type": "code",
   "metadata": {
    "id": "GH1S9QxjDM_g",
    "colab_type": "code",
    "colab": {
     "base_uri": "https://localhost:8080/",
     "height": 282
    },
    "outputId": "5a9422ce-8219-4a73-e402-b84069c4bb3a"
   },
   "source": [
    "#plt.subplot(2, 1, 1)\n",
    "#plt.plot(x, y, c='red')\n",
    "#plt.subplot(2, 1, 2)\n",
    "#plt.plot(x, y, c='blue')"
   ],
   "execution_count": null,
   "outputs": []
  },
  {
   "cell_type": "markdown",
   "metadata": {
    "id": "XiCC3kwGF73I",
    "colab_type": "text"
   },
   "source": [
    "## 4. Méthode orientée objet"
   ]
  },
  {
   "cell_type": "code",
   "metadata": {
    "id": "7onR68MkFvL4",
    "colab_type": "code",
    "colab": {
     "base_uri": "https://localhost:8080/",
     "height": 265
    },
    "outputId": "911b8478-0b49-40b1-f346-9dd391635e1c"
   },
   "source": [
    "fig, ax = plt.subplots(2, 1, sharex=True) # partage le meme axe pour les subplots\n",
    "ax[0].plot(x, y)\n",
    "ax[1].plot(x, np.sin(x))\n",
    "plt.show()"
   ],
   "execution_count": null,
   "outputs": []
  },
  {
   "cell_type": "markdown",
   "metadata": {
    "id": "UGHMaLFAGMzo",
    "colab_type": "text"
   },
   "source": [
    "## 5. Exercice\n",
    "Créez une fonction \"graphique\" qui permet de tracer sur une seule et meme figure une série de graphiques issue d'un dictionnaire contenant plusieurs datasets :"
   ]
  },
  {
   "cell_type": "code",
   "metadata": {
    "id": "nItlbgviGA3F",
    "colab_type": "code",
    "colab": {
     "base_uri": "https://localhost:8080/",
     "height": 1000
    },
    "outputId": "f39ffd03-8d42-49d1-9f30-101773e503c6"
   },
   "source": [
    "def graphique(dataset):\n",
    "  # Votre code ici...\n",
    "  return\n",
    "\n",
    "# Voici le dataset utilisé\n",
    "dataset = {f\"experience{i}\": np.random.randn(100) for i in range(4)}\n",
    "\n",
    "dataset"
   ],
   "execution_count": null,
   "outputs": []
  },
  {
   "cell_type": "code",
   "metadata": {
    "id": "cmR2sJwKGe7g",
    "colab_type": "code",
    "colab": {}
   },
   "source": [],
   "execution_count": 0,
   "outputs": []
  },
  {
   "cell_type": "code",
   "metadata": {
    "id": "zj_pYg79G9XK",
    "colab_type": "code",
    "colab": {
     "base_uri": "https://localhost:8080/",
     "height": 1000
    },
    "outputId": "7013008b-ec60-452e-bbf8-a4b9a60f42cd"
   },
   "source": [
    "graphique(dataset)"
   ],
   "execution_count": null,
   "outputs": []
  },
  {
   "cell_type": "code",
   "metadata": {
    "id": "cwwpHWoEG-0c",
    "colab_type": "code",
    "colab": {}
   },
   "source": [],
   "execution_count": 0,
   "outputs": []
  }
 ]
}
